{
 "cells": [
  {
   "cell_type": "markdown",
   "metadata": {},
   "source": [
    "# Cata del modulo 3\n",
    "\n",
    "## Escribir declaraciones if, else, y elif\n",
    "\n",
    "Para este ejercicio, se escribirá una lógica condicional que imprima una advertencia si un asteroide se acerca a la Tierra demasiado rápido. La velocidad del asteroide varía dependiendo de lo cerca que esté del sol, y cualquier velocidad superior a 25 kilómetros por segundo (km/s) merece una advertencia.\n",
    "\n",
    "🌠 Un asteroide se acerca, y viaja a una velocidad de 49 km/s."
   ]
  },
  {
   "cell_type": "code",
   "execution_count": 1,
   "metadata": {},
   "outputs": [
    {
     "name": "stdout",
     "output_type": "stream",
     "text": [
      "Advertencia la velocidad del asteroide es de 49 km/s.\n"
     ]
    }
   ],
   "source": [
    "# Añadir el código necesario para crear una variable que guarde la velocidad del asteroide.\n",
    "# Escribe una expresión de prueba para calcular si necesita una advertencia.\n",
    "# Agregue las instrucciones que se ejecutarán si la expresión de prueba es true o false.\n",
    "\n",
    "velocidad_del_asteroide = 49\n",
    "if velocidad_del_asteroide > 25:\n",
    "    print(\"Advertencia la velocidad del asteroide es de \" + str(velocidad_del_asteroide) + \" km/s.\")\n",
    "else:\n",
    "    print(\"No hay de que preocuparse, Todo esta bien... Por ahora\")"
   ]
  },
  {
   "cell_type": "markdown",
   "metadata": {},
   "source": [
    "🎇 Si un asteroide entra en la atmósfera de la Tierra a una velocidad mayor o igual a 20 km/s, a veces produce un rayo de luz que se puede ver desde la Tierra. Escribe la lógica condicional que usa declaraciones if, else, y elif para alertar a las personas de todo el mundo que deben buscar un asteroide en el cielo. ¡Hay uno que se dirige a la tierra ahora a una velocidad de 19 km/s!"
   ]
  },
  {
   "cell_type": "code",
   "execution_count": 2,
   "metadata": {},
   "outputs": [
    {
     "name": "stdout",
     "output_type": "stream",
     "text": [
      "Nada por aquí, nada por allá.\n"
     ]
    }
   ],
   "source": [
    "velocidad_del_asteroide = 19\n",
    "if velocidad_del_asteroide > 20:\n",
    "    print(\"Alistate y veamos el asteroide juntos.\")\n",
    "elif velocidad_del_asteroide == 20:\n",
    "    print(\"Alistate y veamos el asteroide juntos.\")\n",
    "else:\n",
    "    print(\"Nada por aquí, nada por allá.\")"
   ]
  },
  {
   "cell_type": "markdown",
   "metadata": {},
   "source": [
    "🌎 En este ejercicio, aprenderás información más matizada sobre cuándo los asteroides representan un peligro para la Tierra, y utilizarás esa información para mejorar nuestro sistema de advertencia. Aquí está la nueva información que necesitas saber:\n",
    "\n",
    "*Los asteroides de menos de 25 metros en su dimensión más grande probablemente se quemarán a medida que entren en la atmósfera de la Tierra.\n",
    "\n",
    "- Si una pieza de un asteroide que es más grande que 25 metros pero más pequeña que 1000 metros golpeara la Tierra, causaría mucho daño.\n",
    "También discutimos en el ejercicio anterior que:\n",
    "\n",
    "- La velocidad del asteroide varía en función de lo cerca que esté del sol, y cualquier velocidad superior a 25 kilómetros por segundo (km/s) merece una advertencia.\n",
    "- Si un asteroide entra en la atmósfera de la Tierra a una velocidad mayor o igual a 20 km/s, a veces produce un rayo de luz que se puede ver desde la Tierra.\n",
    "Usando toda esta información, escribe un programa que emita la advertencia o información correcta a la gente de la Tierra, según la velocidad y el tamaño de un asteroide. Utiliza instrucciones if, else, y elif, así como los operadores and y or."
   ]
  },
  {
   "cell_type": "code",
   "execution_count": 3,
   "metadata": {},
   "outputs": [
    {
     "name": "stdout",
     "output_type": "stream",
     "text": [
      "Alistate y veamos el asteroide juntos.\n"
     ]
    }
   ],
   "source": [
    "# Agrega el código para crear nuevas variables para la velocidad y el tamaño del asteroide\n",
    "# Para probar el código, prueba con varias velocidades y tamaños\n",
    "# Escribe varias expresiones de prueba o combinaciones de expresiones de prueba para determinar qué mensaje se debe enviar a Tierra.\n",
    "velocidad_del_asteroide = 26\n",
    "tamano_del_asteroide = 20\n",
    "if (velocidad_del_asteroide > 25 and tamano_del_asteroide > 25):\n",
    "    print(\"Advertencia el asteroide se acerca peligrosamente a la tierra.\")\n",
    "elif velocidad_del_asteroide >= 20 and tamano_del_asteroide < 25:\n",
    "    print(\"Alistate y veamos el asteroide juntos.\")\n",
    "elif tamano_del_asteroide < 25:\n",
    "    print(\"Nada por aquí, nada por allá.\")\n",
    "else:\n",
    "    print(\"El asteroide no se va a ver, peeero tiene una dimensión destructiva.\")"
   ]
  }
 ],
 "metadata": {
  "interpreter": {
   "hash": "94e721bc8f3e2c58391fa4f4f15d9c35c65e014e65af4de846aee7df9d8155e7"
  },
  "kernelspec": {
   "display_name": "Python 3.7.3 64-bit ('3.7.3')",
   "language": "python",
   "name": "python3"
  },
  "language_info": {
   "codemirror_mode": {
    "name": "ipython",
    "version": 3
   },
   "file_extension": ".py",
   "mimetype": "text/x-python",
   "name": "python",
   "nbconvert_exporter": "python",
   "pygments_lexer": "ipython3",
   "version": "3.7.3"
  },
  "orig_nbformat": 4
 },
 "nbformat": 4,
 "nbformat_minor": 2
}
